{
 "cells": [
  {
   "cell_type": "code",
   "execution_count": null,
   "metadata": {},
   "outputs": [],
   "source": []
  },
  {
   "cell_type": "code",
   "execution_count": 1,
   "metadata": {},
   "outputs": [],
   "source": [
    "\n",
    "PKG_path = 'C:/Users/shjo/Desktop/JNUROMS/'\n",
    "import sys \n",
    "sys.path.append(PKG_path)\n",
    "import Tools.JNUROMS as jr\n",
    "from Tools.JNU_create import create_bry2, create_bry_VVV\n",
    "import numpy as np\n",
    "from netCDF4 import Dataset,MFDataset,date2num,num2date\n",
    "import os\n",
    "from scipy.interpolate import griddata\n",
    "import datetime as dt\n",
    "from tqdm import tqdm\n",
    "from copy import deepcopy\n",
    "My_Bry='J:/tmp/test/Bry_test.nc'\n",
    "My_Grd='J:/tmp/test/Jelly_dr2021_grd.nc'\n",
    "OGCM_PATH='D:/SODA/'\n",
    "\n",
    "Bry_title='Bry_Q1_Rtopo30S_S_soda_50250701_198001_201712'\n",
    "# My Variables\n",
    "MyVar={'Layer_N':50,'Vtransform':2,'Vstretching':5,\\\n",
    "       'Theta_s':7,'Theta_b':1,'Tcline':450,'hmin':50}\n",
    "\n",
    "# OGCM Variables\n",
    "OGCMVar={'lon_rho':'xt_ocean','lat_rho':'yt_ocean','depth':'st_ocean','time':'time',\\\n",
    "         'lon_u':'xu_ocean','lat_u':'yu_ocean','lon_v':'xu_ocean','lat_v':'yu_ocean',\n",
    "         'temp':'temp','salt':'salt','u':'u','v':'v','zeta':'ssh'}\n",
    "conserv=1\n",
    "OGCMS=[OGCM_PATH+'/'+i for i in os.listdir(OGCM_PATH) if i.endswith('.nc')]"
   ]
  },
  {
   "cell_type": "code",
   "execution_count": 2,
   "metadata": {},
   "outputs": [],
   "source": [
    "# Get My Grid info\n",
    "ncG=Dataset(My_Grd)\n",
    "lonG,latG=ncG['lon_rho'][:],ncG['lat_rho'][:]\n",
    "angle,topo,mask=ncG['angle'][:],ncG['h'][:],ncG['mask_rho'][:]\n",
    "ncG.close()\n",
    "\n",
    "# Get OGCM Grid info\n",
    "ncO=Dataset(OGCMS[0])\n",
    "lonO,latO=ncO[OGCMVar['lon_rho']][:],ncO[OGCMVar['lat_rho']][:]\n",
    "depthO=ncO[OGCMVar['depth']][:]\n",
    "ncO.close()"
   ]
  },
  {
   "cell_type": "code",
   "execution_count": 118,
   "metadata": {},
   "outputs": [
    {
     "data": {
      "text/plain": [
       "(720,)"
      ]
     },
     "execution_count": 118,
     "metadata": {},
     "output_type": "execute_result"
    }
   ],
   "source": [
    "lonO.shape"
   ]
  },
  {
   "cell_type": "code",
   "execution_count": 3,
   "metadata": {},
   "outputs": [],
   "source": [
    "\n",
    "t_rng=['1980-01-01 12:00','1980-03-01 12:00']\n",
    "My_time_ref='days since 1970-1-1 00:00:00'\n",
    "OGCM_TIMES=MFDataset(OGCM_PATH+'*.nc')[OGCMVar['time']]\n",
    "TIME_UNIT=OGCM_TIMES.units\n",
    "OGCM_times=num2date(OGCM_TIMES[:],TIME_UNIT)\n",
    "Tst=dt.datetime(int(t_rng[0].split('-')[0]), int(t_rng[0].split('-')[1]),int(t_rng[0].split('-')[2][:2]),int(t_rng[0].split('-')[-1].split(' ')[-1][:2]))\n",
    "Ted=dt.datetime(int(t_rng[1].split('-')[0]), int(t_rng[1].split('-')[1]),int(t_rng[1].split('-')[2][:2]),int(t_rng[1].split('-')[-1].split(' ')[-1][:2]))\n",
    "TIMES_co=np.where( (OGCM_times>=Tst)&(OGCM_times<=Ted) )[0]\n",
    "tmp_y,tmp_m,tmp_H=int(t_rng[0].split('-')[0]),int(t_rng[0].split('-')[-1][:2]),int(t_rng[0].split('-')[-1].split(' ')[-1][:2])\n",
    "tmp_dif=date2num(dt.datetime(tmp_y,tmp_m,tmp_H),TIME_UNIT)-date2num(dt.datetime(tmp_y,tmp_m,tmp_H),My_time_ref)\n",
    "Bry_time_time=num2date(OGCM_TIMES[TIMES_co]-tmp_dif,My_time_ref)\n",
    "Bry_time_num=OGCM_TIMES[TIMES_co]-tmp_dif"
   ]
  },
  {
   "cell_type": "code",
   "execution_count": 34,
   "metadata": {},
   "outputs": [],
   "source": [
    "\n",
    "thO=ncO[OGCMVar['depth']].shape[0]\n",
    "atG,onG=lonG.shape\n",
    "cosa_,sina_=np.cos(angle)[-2:],np.sin(angle)[-2:] #NORTHERN BRY\n",
    "cosa=np.tile( np.tile(cosa_,(thO,1,1)), (len(Bry_time_num),1,1,1) )\n",
    "sina=np.tile( np.tile(sina_,(thO,1,1)), (len(Bry_time_num),1,1,1) )\n"
   ]
  },
  {
   "cell_type": "code",
   "execution_count": 11,
   "metadata": {},
   "outputs": [
    {
     "name": "stdout",
     "output_type": "stream",
     "text": [
      "!!! Make bry:  north !!!\n",
      "!!! Make bry:  west !!!\n"
     ]
    }
   ],
   "source": [
    "NSEW=[True,False,False,True]\n",
    "create_bry_VVV(My_Bry,mask,topo,MyVar,NSEW,Bry_time_num,My_time_ref,Bry_title,ncFormat='NETCDF4')\n"
   ]
  },
  {
   "cell_type": "code",
   "execution_count": 193,
   "metadata": {},
   "outputs": [],
   "source": [
    "def Calc_bry_co(latG,lonG,latO,lonO,m):\n",
    "    dlatG,dlatO=np.diff(latG[:,0]),np.diff(latO)\n",
    "    dlonG,dlonO=np.diff(lonG[0,:]),np.diff(lonO)\n",
    "    if m==0:\n",
    "        if np.max(dlatG)>=np.max(dlatO):\n",
    "            tmp_co=np.min(np.where(latO>=latG[-1,0])[0])\n",
    "            bry_co=np.array([tmp_co,tmp_co])\n",
    "        else:\n",
    "            tmp_co=np.min(np.where(latO>=latG[-1,0])[0])\n",
    "            bry_co=np.array([tmp_co-1,tmp_co])\n",
    "    elif m==1:\n",
    "        if np.max(dlatG)>=np.max(dlatO):\n",
    "            tmp_co=np.max(np.where(latO<=latG[0,0])[0])\n",
    "            bry_co=np.array([tmp_co,tmp_co])\n",
    "        else:\n",
    "            tmp_co=np.max(np.where(latO<=latG[0,0])[0])\n",
    "            bry_co=np.array([tmp_co-1,tmp_co])\n",
    "    elif m==2:\n",
    "        if np.max(dlatG)>=np.max(dlatO):\n",
    "            tmp_co=np.max(np.where(lonO<=lonG[-1,0])[0])\n",
    "            bry_co=np.array([tmp_co,tmp_co])\n",
    "        else:\n",
    "            tmp_co=np.max(np.where(lonO<=lonG[-1,0])[0])\n",
    "            bry_co=np.array([tmp_co,tmp_co-1])\n",
    "    elif m==3:\n",
    "        if np.max(dlatG)>=np.max(dlatO):\n",
    "            tmp_co=np.min(np.where(lonO>=lonG[0,0])[0])\n",
    "            bry_co=np.array([tmp_co,tmp_co])\n",
    "        else:\n",
    "            tmp_co=np.min(np.where(lonO>=lonG[0,0])[0])\n",
    "            bry_co=np.array([tmp_co,tmp_co-1])\n",
    "    return bry_co\n",
    "\n",
    "def rho2u_2d(var):\n",
    "    N,Lp=var.shape\n",
    "    L=Lp-1\n",
    "    var_u=0.5*(var[:,:L]+var[:,1:Lp])\n",
    "    return var_u\n",
    "def rho2u_3d(var):\n",
    "    N,Mp,Lp=var.shape\n",
    "    L=Lp-1\n",
    "    var_u=0.5*(var[:,:,:L]+var[:,:,1:Lp])\n",
    "    return var_u\n",
    "def rho2u_4d(var):\n",
    "    T,N,Mp,Lp=var.shape\n",
    "    L=Lp-1\n",
    "    var_u=0.5*(var[:,:,:,:L]+var[:,:,:,1:Lp])\n",
    "    return var_u\n",
    "def rho2v_3d(var):\n",
    "    T,Mp,Lp=var.shape\n",
    "    M=Mp-1\n",
    "    var_v=0.5*(var[:,:M,:]+var[:,1:Mp,:])\n",
    "    return var_v\n",
    "def rho2v_4d(var):\n",
    "    T,N,Mp,Lp=var.shape\n",
    "    M=Mp-1\n",
    "    var_v=0.5*(var[:,:,:M,:]+var[:,:,1:Mp,:])\n",
    "    return var_v"
   ]
  },
  {
   "cell_type": "code",
   "execution_count": 100,
   "metadata": {},
   "outputs": [
    {
     "data": {
      "text/plain": [
       "array([253, 252], dtype=int64)"
      ]
     },
     "execution_count": 100,
     "metadata": {},
     "output_type": "execute_result"
    }
   ],
   "source": [
    "Calc_bry_co(latG,lonG,latO,lonO,3)"
   ]
  },
  {
   "cell_type": "code",
   "execution_count": 101,
   "metadata": {},
   "outputs": [
    {
     "name": "stdout",
     "output_type": "stream",
     "text": [
      "[219 220]\n",
      "[216 217]\n",
      "[252 251]\n",
      "[253 252]\n"
     ]
    }
   ],
   "source": [
    "print(Calc_bry_co(latG,lonG,latO,lonO,0))\n",
    "print(Calc_bry_co(latG,lonG,latO,lonO,1))\n",
    "print(Calc_bry_co(latG,lonG,latO,lonO,2))\n",
    "print(Calc_bry_co(latG,lonG,latO,lonO,3))"
   ]
  },
  {
   "cell_type": "code",
   "execution_count": 89,
   "metadata": {},
   "outputs": [
    {
     "data": {
      "text/plain": [
       "220"
      ]
     },
     "execution_count": 89,
     "metadata": {},
     "output_type": "execute_result"
    }
   ],
   "source": [
    "tmp_co"
   ]
  },
  {
   "cell_type": "code",
   "execution_count": 74,
   "metadata": {},
   "outputs": [],
   "source": [
    "bry_co=np.array([tmp_co,tmp_co])\n"
   ]
  },
  {
   "cell_type": "code",
   "execution_count": 68,
   "metadata": {},
   "outputs": [
    {
     "data": {
      "text/plain": [
       "34.09"
      ]
     },
     "execution_count": 68,
     "metadata": {},
     "output_type": "execute_result"
    }
   ],
   "source": [
    "latG[0,0]"
   ]
  },
  {
   "cell_type": "code",
   "execution_count": 188,
   "metadata": {},
   "outputs": [],
   "source": [
    "NSEW=[1,1,1,1]"
   ]
  },
  {
   "cell_type": "code",
   "execution_count": 191,
   "metadata": {},
   "outputs": [
    {
     "name": "stdout",
     "output_type": "stream",
     "text": [
      "!!! Data processing : u_north !!!\n",
      "!!! Data processing : v_north !!!\n",
      "!!! Data processing : temp_north !!!\n",
      "!!! Data processing : salt_north !!!\n",
      "!!! Data processing : zeta_north !!!\n",
      "!!! Data processing : ubar_north !!!\n",
      "!!! Data processing : vbar_north !!!\n"
     ]
    },
    {
     "name": "stderr",
     "output_type": "stream",
     "text": [
      "C:\\Users\\shjo\\AppData\\Local\\Temp\\ipykernel_6808\\1259018329.py:59: RuntimeWarning: invalid value encountered in divide\n",
      "  DATA=du/zu\n",
      "C:\\Users\\shjo\\AppData\\Local\\Temp\\ipykernel_6808\\1259018329.py:77: RuntimeWarning: invalid value encountered in divide\n",
      "  DATA=dv/zv\n"
     ]
    },
    {
     "name": "stdout",
     "output_type": "stream",
     "text": [
      "!!! Data processing : u_south !!!\n",
      "!!! Data processing : v_south !!!\n",
      "!!! Data processing : temp_south !!!\n",
      "!!! Data processing : salt_south !!!\n",
      "!!! Data processing : zeta_south !!!\n",
      "!!! Data processing : ubar_south !!!\n",
      "!!! Data processing : vbar_south !!!\n",
      "!!! Data processing : u_east !!!\n",
      "!!! Data processing : v_east !!!\n",
      "!!! Data processing : temp_east !!!\n",
      "!!! Data processing : salt_east !!!\n",
      "!!! Data processing : zeta_east !!!\n",
      "!!! Data processing : ubar_east !!!\n",
      "!!! Data processing : vbar_east !!!\n",
      "!!! Data processing : u_west !!!\n",
      "!!! Data processing : v_west !!!\n",
      "!!! Data processing : temp_west !!!\n",
      "!!! Data processing : salt_west !!!\n",
      "!!! Data processing : zeta_west !!!\n",
      "!!! Data processing : ubar_west !!!\n",
      "!!! Data processing : vbar_west !!!\n"
     ]
    }
   ],
   "source": [
    "\n",
    "\n",
    "# Read_Data\n",
    "OGCM_Data={}#,OGCM_Mask={}\n",
    "m=-1\n",
    "for n in NSEW:\n",
    "    m+=1\n",
    "    if not NSEW[m]:\n",
    "        continue  \n",
    "    \n",
    "    for i in ['u','v','temp','salt','zeta','ubar','vbar']:\n",
    "        if m==0:\n",
    "            mydirc='north'\n",
    "            bry_co=Calc_bry_co(latG,lonG,latO,lonO,m)\n",
    "            lonO_s_m,latO_s_m=np.meshgrid(lonO,latO[bry_co])\n",
    "\n",
    "        elif m==1:\n",
    "            mydirc='south'\n",
    "            bry_co=Calc_bry_co(latG,lonG,latO,lonO,m)\n",
    "            lonO_s_m,latO_s_m=np.meshgrid(lonO,latO[bry_co])\n",
    "\n",
    "        elif m==2:\n",
    "            mydirc='east'\n",
    "            bry_co=Calc_bry_co(latG,lonG,latO,lonO,m)\n",
    "            lonO_s_m,latO_s_m=np.meshgrid(lonO[bry_co],latO)\n",
    "\n",
    "        elif m==3:\n",
    "            mydirc='west'\n",
    "            bry_co=Calc_bry_co(latG,lonG,latO,lonO,m)\n",
    "            lonO_s_m,latO_s_m=np.meshgrid(lonO[bry_co],latO)\n",
    "\n",
    "        print('!!! Data processing : '+i+'_'+mydirc+' !!!')\n",
    "\n",
    "        if (i=='zeta') or (i=='ubar') or (i=='vbar'):\n",
    "            if i=='zeta':\n",
    "                if (m==0) or (m==1):\n",
    "                    DATA=np.squeeze(MFDataset(OGCMS)[OGCMVar[i]][TIMES_co,bry_co,:])\n",
    "                    data=np.zeros([len(Bry_time_num),2,lonG.shape[-1]])\n",
    "\n",
    "                elif (m==2) or (m==3):\n",
    "                    DATA=np.squeeze(MFDataset(OGCMS)[OGCMVar[i]][TIMES_co,:,bry_co])\n",
    "                    data=np.zeros([len(Bry_time_num),latG.shape[0],2])\n",
    "\n",
    "                tmp_mask_=np.invert(DATA.mask)\n",
    "                \n",
    "            elif i=='ubar':\n",
    "                if (m==0) or (m==1):\n",
    "                    tmp_u=np.squeeze(MFDataset(OGCMS)[OGCMVar['u']][TIMES_co,:,bry_co,:])\n",
    "                elif (m==2) or (m==3):\n",
    "                    tmp_u=np.squeeze(MFDataset(OGCMS)[OGCMVar['u']][TIMES_co,:,:,bry_co])\n",
    "                tmp_mask_=np.invert(tmp_u.mask)[:,:,:,:]\n",
    "                \n",
    "                tmp_u[tmp_u.mask]=0\n",
    "                \n",
    "                du=np.zeros([tmp_u.shape[0],tmp_u.shape[2],tmp_u.shape[3]])\n",
    "                zu=np.zeros_like(du)\n",
    "                dz=np.gradient(-depthO)\n",
    "                for n in range(len(depthO)):\n",
    "                    du=du+dz[n]*tmp_u[:,n,:,:].data\n",
    "                    zu=zu+dz[n]*tmp_mask_[:,n,:,:]\n",
    "                DATA=du/zu\n",
    "                # DATA[DATA==0]=np.nan\n",
    "                tmp_mask_=tmp_mask_[:,0,:,:]\n",
    "                \n",
    "            elif i=='vbar':\n",
    "                if (m==0) or (m==1):\n",
    "                    tmp_v=np.squeeze(MFDataset(OGCMS)[OGCMVar['v']][TIMES_co,:,bry_co,:])\n",
    "                elif (m==2) or (m==3):\n",
    "                    tmp_v=np.squeeze(MFDataset(OGCMS)[OGCMVar['v']][TIMES_co,:,:,bry_co])\n",
    "                tmp_mask_=np.invert(tmp_v.mask)[:,:,:,:]\n",
    "                tmp_v[tmp_v.mask]=0\n",
    "                \n",
    "                dv=np.zeros([tmp_v.shape[0],tmp_v.shape[2],tmp_v.shape[3]])\n",
    "                zv=np.zeros_like(dv)\n",
    "                dz=np.gradient(-depthO)\n",
    "                for n in range(len(depthO)):\n",
    "                    dv=dv+dz[n]*tmp_v[:,n,:,:].data\n",
    "                    zv=zv+dz[n]*tmp_mask_[:,n,:,:]\n",
    "                DATA=dv/zv\n",
    "                # DATA[DATA==0]=np.nan\n",
    "                tmp_mask_=tmp_mask_[:,0,:,:]\n",
    "                \n",
    "            for t in range(len(Bry_time_num)):\n",
    "                tmp_mask=tmp_mask_[t]\n",
    "                data_=griddata((lonO_s_m[tmp_mask].flatten(),latO_s_m[tmp_mask].flatten()),\\\n",
    "                            DATA[t][tmp_mask].flatten(),(lonO_s_m.flatten(),latO_s_m.flatten()),'nearest')\n",
    "                data_=data_.reshape(latO_s_m.shape)\n",
    "        \n",
    "                # Interp 4 Grid\n",
    "                if m==0:\n",
    "                    data_re_=griddata( (lonO_s_m.flatten(),latO_s_m.flatten()), data_.flatten(), (lonG[-2:,:].flatten(),latG[-2:,:].flatten()) ,'cubic' )\n",
    "                    data[t]=data_re_.reshape(lonG[-2:,:].shape)\n",
    "                elif m==1:\n",
    "                    data_re_=griddata( (lonO_s_m.flatten(),latO_s_m.flatten()), data_.flatten(), (lonG[:2,:].flatten(),latG[:2,:].flatten()) ,'cubic' )\n",
    "                    data[t]=data_re_.reshape(lonG[:2,:].shape)\n",
    "                elif m==2:\n",
    "                    data_re_=griddata( (lonO_s_m.flatten(),latO_s_m.flatten()), data_.flatten(), (lonG[:,-2:].flatten(),latG[:,-2:].flatten()) ,'cubic' )\n",
    "                    data[t]=data_re_.reshape(lonG[:,-2:].shape)\n",
    "                elif m==3:\n",
    "                    data_re_=griddata( (lonO_s_m.flatten(),latO_s_m.flatten()), data_.flatten(), (lonG[:,:2].flatten(),latG[:,:2].flatten()) ,'cubic' )\n",
    "                    data[t]=data_re_.reshape(lonG[:,:2].shape)\n",
    "            OGCM_Data[i+'_'+mydirc]=data\n",
    "            \n",
    "        else:\n",
    "            \n",
    "            if (m==0) or (m==1):\n",
    "                DATA=np.squeeze(MFDataset(OGCMS)[OGCMVar[i]][TIMES_co,:,bry_co,:])\n",
    "                data=np.zeros([len(Bry_time_num),len(depthO),2,lonG.shape[-1]])\n",
    "\n",
    "            elif (m==2) or (m==3):\n",
    "                DATA=np.squeeze(MFDataset(OGCMS)[OGCMVar[i]][TIMES_co,:,:,bry_co])\n",
    "                data=np.zeros([len(Bry_time_num),len(depthO),latG.shape[0],2])\n",
    "        \n",
    "            tmp_mask_=np.invert(DATA.mask)\n",
    "        \n",
    "            for t in range(len(Bry_time_num)):\n",
    "                for d in range(len(depthO)):\n",
    "                    # Interp mask\n",
    "                    tmp_mask=tmp_mask_[t,d]\n",
    "                    data_=griddata((lonO_s_m[tmp_mask].flatten(),latO_s_m[tmp_mask].flatten()),\\\n",
    "                                DATA[t,d][tmp_mask].flatten(),(lonO_s_m.flatten(),latO_s_m.flatten()),'nearest')\n",
    "                    data_=data_.reshape(latO_s_m.shape)\n",
    "            \n",
    "                    # Interp 4 Grid\n",
    "                if m==0:\n",
    "                    data_re_=griddata( (lonO_s_m.flatten(),latO_s_m.flatten()), data_.flatten(), (lonG[-2:,:].flatten(),latG[-2:,:].flatten()) ,'cubic' )\n",
    "                    data[t,d]=data_re_.reshape(lonG[-2:,:].shape)\n",
    "                    \n",
    "                elif m==1:\n",
    "                    data_re_=griddata( (lonO_s_m.flatten(),latO_s_m.flatten()), data_.flatten(), (lonG[:2,:].flatten(),latG[:2,:].flatten()) ,'cubic' )\n",
    "                    data[t,d]=data_re_.reshape(lonG[:2,:].shape)\n",
    "                elif m==2:\n",
    "                    data_re_=griddata( (lonO_s_m.flatten(),latO_s_m.flatten()), data_.flatten(), (lonG[:,-2:].flatten(),latG[:,-2:].flatten()) ,'cubic' )\n",
    "                    data[t,d]=data_re_.reshape(lonG[:,-2:].shape)\n",
    "                elif m==3:\n",
    "                    data_re_=griddata( (lonO_s_m.flatten(),latO_s_m.flatten()), data_.flatten(), (lonG[:,:2].flatten(),latG[:,:2].flatten()) ,'cubic' )\n",
    "                    data[t,d]=data_re_.reshape(lonG[:,:2].shape)\n",
    "            OGCM_Data[i+'_'+mydirc]=data\n",
    "\n"
   ]
  },
  {
   "cell_type": "code",
   "execution_count": 194,
   "metadata": {},
   "outputs": [
    {
     "data": {
      "text/plain": [
       "dict_keys(['u_north', 'v_north', 'temp_north', 'salt_north', 'zeta_north', 'ubar_north', 'vbar_north', 'u_south', 'v_south', 'temp_south', 'salt_south', 'zeta_south', 'ubar_south', 'vbar_south', 'u_east', 'v_east', 'temp_east', 'salt_east', 'zeta_east', 'ubar_east', 'vbar_east', 'u_west', 'v_west', 'temp_west', 'salt_west', 'zeta_west', 'ubar_west', 'vbar_west'])"
      ]
     },
     "execution_count": 194,
     "metadata": {},
     "output_type": "execute_result"
    }
   ],
   "source": [
    "OGCM_Data.keys()"
   ]
  },
  {
   "cell_type": "code",
   "execution_count": 195,
   "metadata": {},
   "outputs": [],
   "source": [
    "\n",
    "# 4D angle\n",
    "cosa_,sina_=np.cos(angle)[-2:],np.sin(angle)[-2:] #NORTHERN BRY\n",
    "cosa=np.tile( np.tile(cosa_,(thO,1,1)), (len(Bry_time_num),1,1,1) )\n",
    "sina=np.tile( np.tile(sina_,(thO,1,1)), (len(Bry_time_num),1,1,1) )\n"
   ]
  },
  {
   "cell_type": "code",
   "execution_count": null,
   "metadata": {},
   "outputs": [],
   "source": [
    "#Process 2D vectors\n",
    "ubar_north= rho2u_2d(OGCM_Data['ubar'][:,-1,:]*cosa[:,0,-1,:]+OGCM_Data['vbar'][:,-1,:]*sina[:,0,-1,:])\n",
    "vbar_north= rho2v_3d(OGCM_Data['vbar'][:,-2:,:]*cosa[:,0,-2:,:]+OGCM_Data['ubar'][:,-2:,:]*sina[:,0,-2:,:]).squeeze()\n",
    "\n",
    "#Process 3D vectors\n",
    "u=rho2u_3d(OGCM_Data['u'][:,:,-1,:]*cosa[:,:,-1,:]+OGCM_Data['v'][:,:,-1,:]*sina[:,:,-1,:])\n",
    "v=rho2v_4d(OGCM_Data['v'][:,:,-2:,:]*cosa[:,:,-2:,:]-OGCM_Data['u'][:,:,-2:,:]*sina[:,:,-2:,:]).squeeze()"
   ]
  }
 ],
 "metadata": {
  "kernelspec": {
   "display_name": "Python 3",
   "language": "python",
   "name": "python3"
  },
  "language_info": {
   "codemirror_mode": {
    "name": "ipython",
    "version": 3
   },
   "file_extension": ".py",
   "mimetype": "text/x-python",
   "name": "python",
   "nbconvert_exporter": "python",
   "pygments_lexer": "ipython3",
   "version": "3.8.16"
  }
 },
 "nbformat": 4,
 "nbformat_minor": 2
}
